{
 "cells": [
  {
   "cell_type": "code",
   "execution_count": 3,
   "metadata": {},
   "outputs": [
    {
     "name": "stderr",
     "output_type": "stream",
     "text": [
      "/anaconda3/lib/python3.6/site-packages/matplotlib/__init__.py:1003: UserWarning: Duplicate key in file \"/Users/vincentyau/.matplotlib/matplotlibrc\", line #2\n",
      "  (fname, cnt))\n"
     ]
    },
    {
     "name": "stdout",
     "output_type": "stream",
     "text": [
      "Program is running...\n",
      "Success!\n"
     ]
    }
   ],
   "source": [
    "#!/usr/bin/env python3.5\n",
    "# -*- coding:utf-8 -*-\n",
    "\"\"\"\n",
    "Function:\n",
    "合并目录下的所有excel文件，去重后存入新的excel\n",
    "Version:    2016-10-10\n",
    "Author:     Steven\n",
    "Contact:    lucibriel (at) 163.com\n",
    "\"\"\"\n",
    "\n",
    "import os\n",
    "import glob\n",
    "import pandas as pd\n",
    "\n",
    "\n",
    "def merge_excel(path, on=None):\n",
    "    \"\"\"合并数据\"\"\"\n",
    "    all_data = pd.DataFrame()\n",
    "    for f in glob.glob(path):\n",
    "        df = pd.read_excel(f)\n",
    "        all_data = all_data.append(df, ignore_index=True)\n",
    "    return all_data.drop_duplicates(on)\n",
    "\n",
    "\n",
    "if __name__ == '__main__':\n",
    "    print('Program is running...')\n",
    "    path = r'/Users/vincentyau/Desktop/PartOfGPX/*'\n",
    "    target_path = r'/Users/vincentyau/Desktop/'\n",
    "\n",
    "    df = merge_excel(path)\n",
    "    df.to_excel(os.path.join(target_path,\"Total.xlsx\"),index=False)\n",
    "    print('Success!')"
   ]
  },
  {
   "cell_type": "code",
   "execution_count": null,
   "metadata": {},
   "outputs": [],
   "source": []
  }
 ],
 "metadata": {
  "kernelspec": {
   "display_name": "Python 3",
   "language": "python",
   "name": "python3"
  },
  "language_info": {
   "codemirror_mode": {
    "name": "ipython",
    "version": 3
   },
   "file_extension": ".py",
   "mimetype": "text/x-python",
   "name": "python",
   "nbconvert_exporter": "python",
   "pygments_lexer": "ipython3",
   "version": "3.6.7"
  }
 },
 "nbformat": 4,
 "nbformat_minor": 2
}
